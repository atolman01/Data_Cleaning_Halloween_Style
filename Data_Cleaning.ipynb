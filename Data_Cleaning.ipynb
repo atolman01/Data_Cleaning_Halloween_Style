{
  "nbformat": 4,
  "nbformat_minor": 0,
  "metadata": {
    "kernelspec": {
      "display_name": "Python 3",
      "language": "python",
      "name": "python3"
    },
    "language_info": {
      "codemirror_mode": {
        "name": "ipython",
        "version": 3
      },
      "file_extension": ".py",
      "mimetype": "text/x-python",
      "name": "python",
      "nbconvert_exporter": "python",
      "pygments_lexer": "ipython3",
      "version": "3.7.6"
    },
    "colab": {
      "name": "Data_Cleaning.ipynb",
      "provenance": [],
      "collapsed_sections": [],
      "include_colab_link": true
    }
  },
  "cells": [
    {
      "cell_type": "markdown",
      "metadata": {
        "id": "view-in-github",
        "colab_type": "text"
      },
      "source": [
        "<a href=\"https://colab.research.google.com/github/atolman01/Data_Cleaning_Halloween_Style/blob/main/Data_Cleaning.ipynb\" target=\"_parent\"><img src=\"https://colab.research.google.com/assets/colab-badge.svg\" alt=\"Open In Colab\"/></a>"
      ]
    },
    {
      "cell_type": "markdown",
      "metadata": {
        "id": "WgKvSSNc2UbB"
      },
      "source": [
        "# DATA CLEANING"
      ]
    },
    {
      "cell_type": "markdown",
      "metadata": {
        "id": "HiATnta72UbC"
      },
      "source": [
        "Before moving forward you need to make sure that you are logged onto your spark cluster and you have the file candyhierarchy2017.csv dataset downloaded. \n",
        "\n",
        "Download the spookiest dataset here: https://www.scq.ubc.ca/so-much-candy-data-seriously/\n"
      ]
    },
    {
      "cell_type": "markdown",
      "metadata": {
        "id": "pMogKnd2YpKz"
      },
      "source": [
        "\n",
        "\n",
        "---\n",
        "\n",
        "---\n"
      ]
    },
    {
      "cell_type": "markdown",
      "metadata": {
        "id": "hYmUVrLOHQHn"
      },
      "source": [
        "We want to see what candy Trick or Treaters liked a few years ago, but we need your help with cleaning the data!"
      ]
    },
    {
      "cell_type": "markdown",
      "metadata": {
        "id": "yqFJEv6o2UbD"
      },
      "source": [
        "*Step One: Read in the data*"
      ]
    },
    {
      "cell_type": "markdown",
      "metadata": {
        "id": "5wkjXNOlNQvP"
      },
      "source": [
        "You will need to connect to your Google Drive. There's two ways to do this.\n",
        "\n",
        "1.Use Python's os package\n",
        "\n",
        "    import os\n",
        "    from google.colab import drive\n",
        "    drive.mount(\"/content/drive/\", force_remount=True)\n",
        "    os.chdir(\"drive/My Drive/../directory_of_file\")\n",
        "    %cd directory_of_file\n",
        "\n",
        "2.Use Python's drive.mount\n",
        "\n",
        "    from google.colab from drive\n",
        "    drive.mount(\"/content/drive\")\n",
        "\n"
      ]
    },
    {
      "cell_type": "code",
      "metadata": {
        "id": "inReKXLxXgMQ"
      },
      "source": [
        "#Code to connect to your Google Drive"
      ],
      "execution_count": null,
      "outputs": []
    },
    {
      "cell_type": "markdown",
      "metadata": {
        "id": "vByPtgdc4Lt6"
      },
      "source": [
        "----"
      ]
    },
    {
      "cell_type": "markdown",
      "metadata": {
        "id": "UrxpeL1M2UbE"
      },
      "source": [
        "Next we read in the file into a DataFrame\n",
        "\n",
        "**To read in a file into a DataFrame:** \n",
        "\n",
        "    with open(\"/content/drive/../path/to/fileName.csv\",'r') as reader:\n",
        "         df = pd.read_csv(reader)\n",
        "\n",
        "Remember there are optional parameters with .read_csv such as:\n",
        "\n",
        "*sep*     --> Default value is `,`\n",
        "\n",
        "*header*  --> Default value is `None`, otherwise if the first line in your file is the column names set header=0\n",
        "\n",
        "*engine*  --> default engine is `c`, if not `c` then use `python` engine\n",
        "\n"
      ]
    },
    {
      "cell_type": "markdown",
      "metadata": {
        "id": "pecVNItl3DcB"
      },
      "source": [
        "\n",
        "\n",
        "> HINT: you should look into the encoding parameter included in the open method...\n",
        "\n"
      ]
    },
    {
      "cell_type": "code",
      "metadata": {
        "id": "dbS-VA6A3ssJ"
      },
      "source": [
        ""
      ],
      "execution_count": null,
      "outputs": []
    },
    {
      "cell_type": "markdown",
      "metadata": {
        "id": "wlNfL_y03fsM"
      },
      "source": [
        "\n",
        "\n",
        "---\n",
        "\n",
        "Now that your have your data stored in a DataFrame, print the first 10 rows.\n",
        "\n"
      ]
    },
    {
      "cell_type": "code",
      "metadata": {
        "id": "uRDrmkqwxU-F"
      },
      "source": [
        ""
      ],
      "execution_count": null,
      "outputs": []
    },
    {
      "cell_type": "markdown",
      "metadata": {
        "id": "lGIAg2IFdWZV"
      },
      "source": [
        "--- \n",
        "\n",
        "*Let the fun begin!*\n",
        "\n",
        "\n",
        "Take a look at the DataFrame above.\n",
        "\n",
        "We need to determine the problems within our dataset to build and develop elegant solutions.\n",
        "\n",
        "Do you see any problems with the data? If so, what are some of the problems?\n",
        "\n"
      ]
    },
    {
      "cell_type": "markdown",
      "metadata": {
        "id": "q62uCpERQ5Xv"
      },
      "source": [
        "<ul>\n",
        "  <li> 1. <textarea name=\"first\" rows=1 cols=50></textarea></li>\n",
        "  <li> 2. <textarea name=\"second\" rows=1 cols=50></textarea></li>\n",
        "  <li> 3. <textarea name=\"third\" rows=1 cols=50></textarea></li>\n",
        "</ul>"
      ]
    },
    {
      "cell_type": "markdown",
      "metadata": {
        "id": "Dp0KApe8iQJs"
      },
      "source": [
        "\n",
        "\n",
        "*You may be asking, what is the purpose of cleaning data anyway?*\n",
        "\n",
        "    What a great question. Think about it. \n",
        "    Then do a little research on your own. \n",
        "    Tell me the 3 main causes of dirty data and why it's a problem.\n",
        "\n"
      ]
    },
    {
      "cell_type": "markdown",
      "metadata": {
        "id": "XLHqG0GMSQid"
      },
      "source": [
        "<ul>\n",
        "  <li> 1. <textarea name=\"cause1\" rows=1 cols=65></textarea></li>\n",
        "  <li> 2. <textarea name=\"cause1\" rows=1 cols=65></textarea></li>\n",
        "  <li> 3. <textarea name=\"cause1\" rows=1 cols=65></textarea></li>\n",
        "</ul>\n"
      ]
    },
    {
      "cell_type": "markdown",
      "metadata": {
        "id": "BIV-DeBVTeBJ"
      },
      "source": [
        "<p><textarea id=\"dirty\" name=\"dirty\" rows=6 cols=100>Explain why dirty data is problematic.</textarea></p>"
      ]
    },
    {
      "cell_type": "markdown",
      "metadata": {
        "id": "CfA8Ukv0VfAn"
      },
      "source": [
        "---"
      ]
    },
    {
      "cell_type": "markdown",
      "metadata": {
        "id": "F_8AG9EPi24i"
      },
      "source": [
        "**Text to name some of the main problems with the dataset and how it effects data quality**"
      ]
    },
    {
      "cell_type": "markdown",
      "metadata": {
        "id": "57WKeep3N4D7"
      },
      "source": [
        "\n",
        "**Problem 1 :** Our columns need a makeover. "
      ]
    },
    {
      "cell_type": "markdown",
      "metadata": {
        "id": "x5VGpg3N5_Em"
      },
      "source": [
        "Those columns are the scariest columns I have seen yet. But, with your expertise we will have beautiful columns in no time. \n",
        "\n",
        "*Exercise 1.1:*\n",
        "\n",
        "    Similar to pseudocode, write out the steps you would take to make the columns consistent. \n",
        "    Then tell me why it would be a good approach. \n",
        "    Give at least two different approaches of cleaning the columns.\n"
      ]
    },
    {
      "cell_type": "markdown",
      "metadata": {
        "id": "u1B5e-cEWwOX"
      },
      "source": [
        "Approach 1\n",
        "\n",
        "<textarea name=\"approach2\" rows=5 cols=100>Place steps here.</textarea>\n",
        "\n",
        "Approach 2\n",
        "\n",
        "<textarea name=\"approach2\" rows=5 cols=100>Place steps here.</textarea>"
      ]
    },
    {
      "cell_type": "markdown",
      "metadata": {
        "id": "ohehrvRnOWmI"
      },
      "source": [
        "Explain which approach is slightly better than the other and why.\n",
        "\n",
        "<textarea id=\"explaination\" name=\"explaination\" rows=\"6\" cols=\"135\"></textarea>\n",
        "\n",
        "**Pick either Approach 1 or 2 and let's implement it!**\n",
        "\n",
        "---"
      ]
    },
    {
      "cell_type": "code",
      "metadata": {
        "id": "ILi7dglFbNN6"
      },
      "source": [
        "#Implement approach here"
      ],
      "execution_count": null,
      "outputs": []
    },
    {
      "cell_type": "code",
      "metadata": {
        "id": "NMdcS5Bmc7-l"
      },
      "source": [
        ""
      ],
      "execution_count": null,
      "outputs": []
    },
    {
      "cell_type": "markdown",
      "metadata": {
        "id": "Hqb2lxcpaKrS"
      },
      "source": [
        "---\n",
        "**Problem 2:** NULL VALUES (row cleaning)\n",
        "\n",
        "In the world of data, we do NOT like NULL values. At all. \n",
        "\n",
        "NULL values complicate things. We want simple things. So we need to deal with our NULL values in our dataframe."
      ]
    },
    {
      "cell_type": "code",
      "metadata": {
        "id": "SiCPlHbNoa0M"
      },
      "source": [
        ""
      ],
      "execution_count": null,
      "outputs": []
    },
    {
      "cell_type": "markdown",
      "metadata": {
        "id": "UUFJZe7x_Dl3"
      },
      "source": [
        "---\n",
        " **Problem 3:** WHAT CRAZY VALUES ARE IN THE COLUMNS?!\n",
        "\n",
        "\n",
        "For data, such as survey's, you really have no idea what a person will put for an answer. Some of there answer's might even match another person's, but be categorized differently in the dataframe. Some just will make no sense.  \n",
        "\n",
        "Let us take a look at our data set to see what occurances are shown in all the columns.\n",
        "\n",
        "    This does not mean to look at the entire data. We only want to look at specific column(s) and what is present within it. "
      ]
    },
    {
      "cell_type": "code",
      "metadata": {
        "id": "F3UUCE89BsTq"
      },
      "source": [
        "# look at your columns"
      ],
      "execution_count": null,
      "outputs": []
    },
    {
      "cell_type": "code",
      "metadata": {
        "id": "3bdJZjl7DVIs"
      },
      "source": [
        "# go through each column"
      ],
      "execution_count": null,
      "outputs": []
    },
    {
      "cell_type": "markdown",
      "metadata": {
        "id": "T0sDWBfnCKAA"
      },
      "source": [
        "What columns need to be fixed? \n",
        "<ul>\n",
        "  <li> 1. <textarea name=\"first\" rows=1 cols=50></textarea></li>\n",
        "  <li> 2. <textarea name=\"second\" rows=1 cols=50></textarea></li>\n",
        "  <li> 3. <textarea name=\"third\" rows=1 cols=50></textarea></li>\n",
        "  <li> 4. <textarea name=\"fourth\" rows=1 cols=50></textarea></li>\n",
        "</ul>"
      ]
    }
  ]
}