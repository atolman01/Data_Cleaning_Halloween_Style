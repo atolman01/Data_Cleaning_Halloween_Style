{
  "nbformat": 4,
  "nbformat_minor": 0,
  "metadata": {
    "kernelspec": {
      "display_name": "Python 3",
      "language": "python",
      "name": "python3"
    },
    "language_info": {
      "codemirror_mode": {
        "name": "ipython",
        "version": 3
      },
      "file_extension": ".py",
      "mimetype": "text/x-python",
      "name": "python",
      "nbconvert_exporter": "python",
      "pygments_lexer": "ipython3",
      "version": "3.7.6"
    },
    "colab": {
      "name": "Data_Cleaning.ipynb",
      "provenance": [],
      "collapsed_sections": [],
      "include_colab_link": true
    }
  },
  "cells": [
    {
      "cell_type": "markdown",
      "metadata": {
        "id": "view-in-github",
        "colab_type": "text"
      },
      "source": [
        "<a href=\"https://colab.research.google.com/github/atolman01/Data_Cleaning_Halloween_Style/blob/main/Data_Cleaning.ipynb\" target=\"_parent\"><img src=\"https://colab.research.google.com/assets/colab-badge.svg\" alt=\"Open In Colab\"/></a>"
      ]
    },
    {
      "cell_type": "markdown",
      "metadata": {
        "id": "WgKvSSNc2UbB"
      },
      "source": [
        "# DATA CLEANING"
      ]
    },
    {
      "cell_type": "markdown",
      "metadata": {
        "id": "HiATnta72UbC"
      },
      "source": [
        "Before moving forward you need to make sure that you are logged onto your spark cluster and you have the file candyhierarchy2017.csv dataset downloaded. \n",
        "\n",
        "Download the spookiest dataset here: https://www.scq.ubc.ca/so-much-candy-data-seriously/\n"
      ]
    },
    {
      "cell_type": "markdown",
      "metadata": {
        "id": "pMogKnd2YpKz"
      },
      "source": [
        "\n",
        "\n",
        "---\n",
        "\n",
        "---\n"
      ]
    },
    {
      "cell_type": "markdown",
      "metadata": {
        "id": "yqFJEv6o2UbD"
      },
      "source": [
        "*Step One: Read in the data*"
      ]
    },
    {
      "cell_type": "markdown",
      "metadata": {
        "id": "5wkjXNOlNQvP"
      },
      "source": [
        "You will need to connect to your Google Drive. There's two ways to do this.\n",
        "\n",
        "1.Use Python's os package\n",
        "\n",
        "    import os\n",
        "    from google.colab import drive\n",
        "    drive.mount(\"/content/drive/\", force_remount=True)\n",
        "    os.chdir(\"drive/My Drive/../directory_of_file\")\n",
        "    %cd directory_of_file\n",
        "\n",
        "2.Use Python's drive.mount\n",
        "\n",
        "    from google.colab from drive\n",
        "    drive.mount(\"/content/drive\")\n",
        "\n"
      ]
    },
    {
      "cell_type": "code",
      "metadata": {
        "id": "inReKXLxXgMQ"
      },
      "source": [
        "#Code to connect to your Google Drive"
      ],
      "execution_count": null,
      "outputs": []
    },
    {
      "cell_type": "markdown",
      "metadata": {
        "id": "vByPtgdc4Lt6"
      },
      "source": [
        "----"
      ]
    },
    {
      "cell_type": "markdown",
      "metadata": {
        "id": "UrxpeL1M2UbE"
      },
      "source": [
        "Next we read in the file into a DataFrame\n",
        "\n",
        "**To read in a file into a DataFrame:** \n",
        "\n",
        "    with open(\"/content/drive/../path/to/fileName.csv\",'r') as reader:\n",
        "         df = pd.read_csv(reader)\n",
        "\n",
        "Remember there are optional parameters with .read_csv such as:\n",
        "\n",
        "*sep*     --> Default value is `,`\n",
        "\n",
        "*header*  --> Default value is `None`, otherwise if the first line in your file is the column names set header=0\n",
        "\n",
        "*engine*  --> default engine is `c`, if not `c` then use `python` engine\n",
        "\n"
      ]
    },
    {
      "cell_type": "markdown",
      "metadata": {
        "id": "pecVNItl3DcB"
      },
      "source": [
        "\n",
        "\n",
        "> HINT: you should look into the encoding parameter included in the open method...\n",
        "\n"
      ]
    },
    {
      "cell_type": "code",
      "metadata": {
        "id": "dbS-VA6A3ssJ"
      },
      "source": [
        ""
      ],
      "execution_count": null,
      "outputs": []
    },
    {
      "cell_type": "markdown",
      "metadata": {
        "id": "wlNfL_y03fsM"
      },
      "source": [
        "\n",
        "\n",
        "---\n",
        "\n",
        "Now that your have your data stored in a DataFrame, print the first 5 rows.\n",
        "\n"
      ]
    },
    {
      "cell_type": "code",
      "metadata": {
        "id": "uRDrmkqwxU-F"
      },
      "source": [
        ""
      ],
      "execution_count": null,
      "outputs": []
    },
    {
      "cell_type": "markdown",
      "metadata": {
        "id": "x5VGpg3N5_Em"
      },
      "source": [
        "Looking at the columns, are there any columns irrelevant to Trick or Treating? "
      ]
    },
    {
      "cell_type": "code",
      "metadata": {
        "id": "KENNrjIbBdOj"
      },
      "source": [
        "#list the columns here"
      ],
      "execution_count": null,
      "outputs": []
    }
  ]
}