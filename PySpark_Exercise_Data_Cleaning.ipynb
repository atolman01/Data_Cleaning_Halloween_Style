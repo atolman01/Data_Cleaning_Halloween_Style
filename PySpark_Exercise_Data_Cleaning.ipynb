{
  "nbformat": 4,
  "nbformat_minor": 0,
  "metadata": {
    "colab": {
      "name": "PySpark_Exercise_Data_Cleaning.ipynb",
      "provenance": [],
      "include_colab_link": true
    },
    "kernelspec": {
      "name": "python3",
      "display_name": "Python 3"
    }
  },
  "cells": [
    {
      "cell_type": "markdown",
      "metadata": {
        "id": "view-in-github",
        "colab_type": "text"
      },
      "source": [
        "<a href=\"https://colab.research.google.com/github/atolman01/Data_Cleaning_Halloween_Style/blob/main/PySpark_Exercise_Data_Cleaning.ipynb\" target=\"_parent\"><img src=\"https://colab.research.google.com/assets/colab-badge.svg\" alt=\"Open In Colab\"/></a>"
      ]
    },
    {
      "cell_type": "markdown",
      "metadata": {
        "id": "VrDt6VAu4Yyd"
      },
      "source": [
        "# **USING PYSPARK**\n",
        "##  **Data Cleaning**\n",
        "\n",
        "![picture](https://media.tenor.com/images/f4c8059e75d21aa301174d4374ec4680/tenor.gif)"
      ]
    },
    {
      "cell_type": "markdown",
      "metadata": {
        "id": "ydALavO8niSa"
      },
      "source": [
        "Download the spookiest dataset here: https://www.scq.ubc.ca/so-much-candy-data-seriously/\n",
        "\n",
        "We want to see what candy Trick or Treaters liked a few years ago, but we need your help with cleaning the data!"
      ]
    },
    {
      "cell_type": "markdown",
      "metadata": {
        "id": "aMM9mV4CoT-Z"
      },
      "source": [
        "Note: These steps should be done on your spark cluster account!"
      ]
    },
    {
      "cell_type": "markdown",
      "metadata": {
        "id": "MRqypTFZoCMh"
      },
      "source": [
        "**Step 1:** First read the Data in\n",
        "\n",
        "Remember there are optional parameters with .read_csv in pyspark such as:\n",
        "\n",
        "*sep*     --> Default value is `,`\n",
        "\n",
        "*header*  --> Default value is `None`, otherwise if the first line in your file is the column names set header=0\n",
        "\n",
        "*inferSchema*  --> default option is false, ensuring all columns are strings\n"
      ]
    },
    {
      "cell_type": "code",
      "metadata": {
        "id": "pe4O_dyLn5LJ"
      },
      "source": [
        "# Comment how you are reading your code in here:\n",
        "  #  "
      ],
      "execution_count": null,
      "outputs": []
    }
  ]
}