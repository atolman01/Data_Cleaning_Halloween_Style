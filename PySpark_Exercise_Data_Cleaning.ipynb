{
  "nbformat": 4,
  "nbformat_minor": 0,
  "metadata": {
    "colab": {
      "name": "PySpark_Exercise_Data_Cleaning.ipynb",
      "provenance": [],
      "include_colab_link": true
    },
    "kernelspec": {
      "name": "python3",
      "display_name": "Python 3"
    }
  },
  "cells": [
    {
      "cell_type": "markdown",
      "metadata": {
        "id": "view-in-github",
        "colab_type": "text"
      },
      "source": [
        "<a href=\"https://colab.research.google.com/github/atolman01/Data_Cleaning_Halloween_Style/blob/main/PySpark_Exercise_Data_Cleaning.ipynb\" target=\"_parent\"><img src=\"https://colab.research.google.com/assets/colab-badge.svg\" alt=\"Open In Colab\"/></a>"
      ]
    },
    {
      "cell_type": "markdown",
      "metadata": {
        "id": "VrDt6VAu4Yyd"
      },
      "source": [
        "# **USING PYSPARK**\n",
        "##  **Data Cleaning**\n",
        "\n",
        "![picture](https://media.tenor.com/images/f4c8059e75d21aa301174d4374ec4680/tenor.gif)\n",
        "\n",
        "                                We know this is your reaction to start working with PySpark..."
      ]
    },
    {
      "cell_type": "markdown",
      "metadata": {
        "id": "OZaLiKxFFiqY"
      },
      "source": [
        "---"
      ]
    },
    {
      "cell_type": "markdown",
      "metadata": {
        "id": "AKcbPBKtQRdV"
      },
      "source": [
        "During this exercise, we agreed on the best way to learn PySpark is by working on projects, making mistakes, and using your best friend ( her name is Google ). \n",
        "\n",
        "Yes we would love to tell you how to do everything in PySpark, but you will become a PySparista/PySparticus with practice. So Let's get started shall we?!\n",
        "\n",
        "----"
      ]
    },
    {
      "cell_type": "markdown",
      "metadata": {
        "id": "ydALavO8niSa"
      },
      "source": [
        "Download the spookiest dataset here: https://www.scq.ubc.ca/so-much-candy-data-seriously/\n",
        "\n",
        "*Note: SAVE THE DATASET TO YOUR RUCS ACCOUNT*\n",
        "\n",
        "**INSTRUCTIONS:**\n",
        "\n",
        "    1.On any Linux Client, ( we recommend PuTTY ) log onto your RUCS account\n",
        "    2.Go to the directory where the dataset was saved to\n",
        "    3.Secure copy the dataset to your Spark account using the command scp\n",
        "      EX: scp dataset.csv username@itec-sprk01:/home/username/\n",
        "    4.SSH into your Spark account\n",
        "    5.Create a new PySpark script using the VIM editor called candy_script.py and save the file\n",
        "    6.Start Cleaning!\n",
        "\n",
        "\n"
      ]
    },
    {
      "cell_type": "markdown",
      "metadata": {
        "id": "aMM9mV4CoT-Z"
      },
      "source": [
        "\n",
        "**Note: Also remember with a PySpark script, you must create a new SparkSession within the script and import SparkSession from pyspark.sql.*"
      ]
    },
    {
      "cell_type": "markdown",
      "metadata": {
        "id": "n88ixAvCSjKz"
      },
      "source": [
        "To create a SparkSession do the following:\n",
        "\n",
        "    spark = (SparkSession.builder\n",
        "                         .appName(\"Name of your Application\")\n",
        "                         .getOrCreate())\n",
        "\n",
        "                         "
      ]
    },
    {
      "cell_type": "markdown",
      "metadata": {
        "id": "kVmhnA_Eq1ag"
      },
      "source": [
        "**Why use a PySpark script rather than the command line?**\n",
        "\n",
        "Do some research. Tell me the advantages and disadvantages of using scripts vs. the command line.\n",
        "\n",
        "<textarea rows=6 cols=85></textarea>"
      ]
    },
    {
      "cell_type": "markdown",
      "metadata": {
        "id": "MRqypTFZoCMh"
      },
      "source": [
        "---\n",
        "\n",
        "**Step 1:** Read in the Data \n",
        "\n",
        "    my_dataframe = spark.read.csv(\"/path/to/file\"\n",
        "                                ,sep=','\n",
        "                                ,header=True\n",
        "                                ,inferSchema=True)\n",
        "\n",
        "\n",
        "Remember there are optional parameters with .read_csv in pyspark such as:\n",
        "\n",
        "*sep*     --> Default value is `,`\n",
        "\n",
        "*header*  --> Default value is `None`, otherwise if the first line in your file is the column names set header=0\n",
        "\n",
        "*inferSchema*  --> default option is false, ensuring all columns are strings\n"
      ]
    },
    {
      "cell_type": "code",
      "metadata": {
        "id": "pe4O_dyLn5LJ"
      },
      "source": [
        "#Implement here"
      ],
      "execution_count": null,
      "outputs": []
    },
    {
      "cell_type": "markdown",
      "metadata": {
        "id": "Y64YBzu7HQJx"
      },
      "source": [
        "---"
      ]
    },
    {
      "cell_type": "markdown",
      "metadata": {
        "id": "dZgVsDdXrt4K"
      },
      "source": [
        "Let the cleaning begin! \n",
        "\n",
        "**Step 2:** Find the problems!\n",
        "\n",
        "  Take a look at the data and do your best to find some of the problems.\n",
        "  You will need to revist this question as you continue to clean. \n",
        "\n",
        "  List the problems here:\n",
        "<ul>\n",
        "  <li> <textarea name=\"first\" rows=1 cols=50></textarea></li>\n",
        "  <li> <textarea name=\"second\" rows=1 cols=50></textarea></li>\n",
        "  <li> <textarea name=\"third\" rows=1 cols=50></textarea></li>\n",
        "</ul>"
      ]
    },
    {
      "cell_type": "markdown",
      "metadata": {
        "id": "UF4di3D3tkqt"
      },
      "source": [
        "Why is it important that we fix the problems you listed? \n",
        "\n",
        "<p><textarea id=\"dirty\" name=\"dirty\" rows=6 cols=100>Explain here.</textarea></p>"
      ]
    },
    {
      "cell_type": "markdown",
      "metadata": {
        "id": "23byhAiWYo_y"
      },
      "source": [
        "*Hint:*\n",
        "\n",
        "![image.png](data:image/png;base64,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)"
      ]
    },
    {
      "cell_type": "markdown",
      "metadata": {
        "id": "HMB7QSqzHbug"
      },
      "source": [
        "---"
      ]
    },
    {
      "cell_type": "markdown",
      "metadata": {
        "id": "dyMExrcFt-Z4"
      },
      "source": [
        "**Problem 1:** THE COLUMNS LOOK HIDEOUS.\n",
        "\n",
        "\n",
        "\n",
        "    Think about how you could clean the columns to make them consistent. \n",
        "    Try and determine what control/data structures that can help you. \n",
        "    List the steps for Approach 1 and Approach 2.\n",
        "\n",
        "Approach 1\n",
        "<p><textarea id=\"dirty\" name=\"dirty\" rows=6 cols=100>Place your steps here.</textarea></p>\n",
        "\n",
        "Approach 2\n",
        "<p><textarea id=\"dirty2\" name=\"dirty\" rows=6 cols=100>Place your steps here.</textarea>\n",
        "\n",
        "\n",
        "Explain which approach you think is best to implement.Why?\n",
        "<p><textarea id=\"dirty\" name=\"dirty\" rows=6 cols=100> </textarea></p>\n"
      ]
    },
    {
      "cell_type": "markdown",
      "metadata": {
        "id": "x6CdYxSSJmy4"
      },
      "source": [
        "----"
      ]
    },
    {
      "cell_type": "markdown",
      "metadata": {
        "id": "0seO3jCbvtRY"
      },
      "source": [
        "**Problem 2:** Null values!! \n",
        "\n",
        "In the world of data, we do NOT like NULL values. At all. \n",
        "\n",
        "NULL values complicate things. We want simple things. So we need to deal with our NULL values.\n",
        "\n"
      ]
    },
    {
      "cell_type": "markdown",
      "metadata": {
        "id": "OIw28LlUJtDO"
      },
      "source": [
        "How would you go about fixing the NULL values? (Remember you need to justify anything you remove from data)"
      ]
    },
    {
      "cell_type": "markdown",
      "metadata": {
        "id": "teSWH0WsJ5Zz"
      },
      "source": [
        "<p><textarea id=\"null_values\" name=\"null_values\" rows=6 cols=100>Place your steps here. </textarea></p>\n"
      ]
    },
    {
      "cell_type": "code",
      "metadata": {
        "id": "_Ui1x0rWHjcs"
      },
      "source": [
        "#Write out your steps here"
      ],
      "execution_count": null,
      "outputs": []
    },
    {
      "cell_type": "markdown",
      "metadata": {
        "id": "4oaYG_NTLB0T"
      },
      "source": [
        "-----"
      ]
    },
    {
      "cell_type": "markdown",
      "metadata": {
        "id": "0HpxiWPZHvDH"
      },
      "source": [
        "**Problem 3:** Column values!\n",
        "\n",
        "Survey data is a pain. There is no restriction of what can go into our dataset. So values are only misspelled. But some make abso-fruitly no sense. \n",
        "\n",
        "Take a look at the vaules of each column! \n",
        "\n",
        "    We only want to look at specific column(s) and what is present within it. \n",
        "    -> BE SURE TO ALSO EXAMINE THE ROWS IF YOU SUSPECT ENTRIES COULD BE FOR A DIFFERENT COLUMN \n",
        "\n",
        "What columns did you find that needs to be fixed? \n",
        "<ul>\n",
        "  <li> <textarea name=\"first\" rows=1 cols=50></textarea></li>\n",
        "  <li> <textarea name=\"second\" rows=1 cols=50></textarea></li>\n",
        "  <li> <textarea name=\"third\" rows=1 cols=50></textarea></li>\n",
        "  <li> <textarea name=\"fourth\" rows=1 cols=50></textarea></li>\n",
        "</ul>\n",
        "\n",
        "\n",
        "Just as before think about how you might fix these columns before you try implementing anything.\n",
        "\n",
        "Column 1\n",
        "<textarea name=\"approach2\" rows=5 cols=100>Place each column's steps here.</textarea>\n",
        "\n",
        "Column 2\n",
        "<textarea name=\"approach2\" rows=5 cols=100>Place each column's steps here.</textarea>\n",
        "\n",
        "Column 3\n",
        "<textarea name=\"approach2\" rows=5 cols=100>Place each column's steps here.</textarea>\n",
        "\n",
        "Column 4\n",
        "<textarea name=\"approach2\" rows=5 cols=100>Place each column's steps here.</textarea>\n",
        "\n"
      ]
    },
    {
      "cell_type": "code",
      "metadata": {
        "id": "EoTgr80UI8QG"
      },
      "source": [
        "#examine your dataset here"
      ],
      "execution_count": null,
      "outputs": []
    },
    {
      "cell_type": "code",
      "metadata": {
        "id": "_LEyCTHHJBPL"
      },
      "source": [
        "#look at your column values more in depth\n",
        "    # add as many of these as you need to make it coherent for other readers"
      ],
      "execution_count": null,
      "outputs": []
    },
    {
      "cell_type": "code",
      "metadata": {
        "id": "WU4kxwNCN1UA"
      },
      "source": [
        ""
      ],
      "execution_count": null,
      "outputs": []
    },
    {
      "cell_type": "code",
      "metadata": {
        "id": "nOETTldlN06z"
      },
      "source": [
        ""
      ],
      "execution_count": null,
      "outputs": []
    },
    {
      "cell_type": "markdown",
      "metadata": {
        "id": "19s8Jn5xN2ES"
      },
      "source": [
        "----"
      ]
    },
    {
      "cell_type": "markdown",
      "metadata": {
        "id": "ZPGyZsRFJOVT"
      },
      "source": [
        "**Step 3: Examine your data again, Is all of the data \"cleaned\"?**\n",
        "\n",
        "This step you may do many times. It is very common to miss something in your original pass through. We are all humans, so mistakes happen.\n",
        "\n",
        "Similar to what you were taught in grade school. The Scientific Method!\n",
        "\n",
        "    1.Find the Problem/Ask Question\n",
        "    2.Research and Gather Information\n",
        "    3.Create Assumption\n",
        "    4.Experiment\n",
        "    5.Observe\n",
        "    6.Conclusion\n",
        "    7.Repeat (if needed)\n",
        "\n",
        "\n",
        "Revisit your data. Print all unique values in the column. Below, check to see if their are any values you missed, and fix the errors. \n",
        "\n",
        "    Hint: One step you may have not seen could be seeing if there is at least one answer present for all of the candy columns. \n",
        "    If not, is it necessary to have those entries?\n",
        "\n"
      ]
    },
    {
      "cell_type": "code",
      "metadata": {
        "id": "13vpKWrkKM22"
      },
      "source": [
        "# Revisit Data"
      ],
      "execution_count": null,
      "outputs": []
    },
    {
      "cell_type": "code",
      "metadata": {
        "id": "UxKihexxKOU8"
      },
      "source": [
        "# Do anymore steps that you find necessary"
      ],
      "execution_count": null,
      "outputs": []
    },
    {
      "cell_type": "code",
      "metadata": {
        "id": "MxEjOeMxPqkk"
      },
      "source": [
        "#Continue to go through these steps until your dataset is fresh and cleaned!"
      ],
      "execution_count": null,
      "outputs": []
    },
    {
      "cell_type": "markdown",
      "metadata": {
        "id": "bGD1W2YjPNhJ"
      },
      "source": [
        "![picture](https://media.giphy.com/media/r1hcMJNIDvdnE2koDY/giphy.gif)\n",
        "\n",
        "\n",
        "        YAS! You can raise the roof, your dataset is good as new! Go treat yourself with some ice cream. You deserve it!"
      ]
    }
  ]
}