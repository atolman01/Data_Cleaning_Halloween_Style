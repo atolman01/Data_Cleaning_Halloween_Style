{
  "nbformat": 4,
  "nbformat_minor": 0,
  "metadata": {
    "colab": {
      "name": "PySpark_Exercise_Data_Cleaning.ipynb",
      "provenance": [],
      "include_colab_link": true
    },
    "kernelspec": {
      "name": "python3",
      "display_name": "Python 3"
    }
  },
  "cells": [
    {
      "cell_type": "markdown",
      "metadata": {
        "id": "view-in-github",
        "colab_type": "text"
      },
      "source": [
        "<a href=\"https://colab.research.google.com/github/atolman01/Data_Cleaning_Halloween_Style/blob/main/PySpark_Exercise_Data_Cleaning.ipynb\" target=\"_parent\"><img src=\"https://colab.research.google.com/assets/colab-badge.svg\" alt=\"Open In Colab\"/></a>"
      ]
    },
    {
      "cell_type": "markdown",
      "metadata": {
        "id": "VrDt6VAu4Yyd"
      },
      "source": [
        "# **USING PYSPARK**\n",
        "##  **Data Cleaning**\n",
        "\n",
        "![picture](https://media.tenor.com/images/f4c8059e75d21aa301174d4374ec4680/tenor.gif)\n",
        "\n",
        "                                We know this is your reaction to start working with PySpark..."
      ]
    },
    {
      "cell_type": "markdown",
      "metadata": {
        "id": "OZaLiKxFFiqY"
      },
      "source": [
        "---\n"
      ]
    },
    {
      "cell_type": "markdown",
      "metadata": {
        "id": "AKcbPBKtQRdV"
      },
      "source": [
        "During this exercise, we agreed on the best way to learn PySpark is by working on projects, making mistakes, and using your best friend ( her name is Google ). \n",
        "\n",
        "Yes we would love to tell you how to do everything in PySpark, but you will become a PySparista/PySparticus with practice. So Let's get started shall we?!\n",
        "\n",
        "----"
      ]
    },
    {
      "cell_type": "markdown",
      "metadata": {
        "id": "ydALavO8niSa"
      },
      "source": [
        "Download the spookiest dataset here: https://www.scq.ubc.ca/so-much-candy-data-seriously/\n"
      ]
    },
    {
      "cell_type": "markdown",
      "metadata": {
        "id": "aMM9mV4CoT-Z"
      },
      "source": [
        "*Note: Make sure to save this data to your spark account before starting the exercise.*\n",
        "\n",
        "Also, we advise you use a python script instead of using the PySpark command line. It will make your life and ours MUCH easier!\n",
        "\n",
        "**So go ahead and create a Python file with the name candy_script.py**\n",
        "\n",
        "**Note: Also remember with a PySpark script, you must create a new SparkSession within the script and import SparkSession from pyspark.sql.*"
      ]
    },
    {
      "cell_type": "markdown",
      "metadata": {
        "id": "n88ixAvCSjKz"
      },
      "source": [
        "To create a SparkSession do the following:\n",
        "\n",
        "    spark = (SparkSession.builder\n",
        "                         .appName(\"Name of your Application\")\n",
        "                         .getOrCreate())\n",
        "\n",
        "                         "
      ]
    },
    {
      "cell_type": "markdown",
      "metadata": {
        "id": "MRqypTFZoCMh"
      },
      "source": [
        "---\n",
        "\n",
        "**Step 1:** Read in the Data \n",
        "\n",
        "    my_dataframe = spark.read.csv(\"/path/to/file\"\n",
        "                                ,sep=','\n",
        "                                ,header=True\n",
        "                                ,inferSchema=True)\n",
        "\n",
        "\n",
        "Remember there are optional parameters with .read_csv in pyspark such as:\n",
        "\n",
        "*sep*     --> Default value is `,`\n",
        "\n",
        "*header*  --> Default value is `None`, otherwise if the first line in your file is the column names set header=0\n",
        "\n",
        "*inferSchema*  --> default option is false, ensuring all columns are strings\n"
      ]
    },
    {
      "cell_type": "code",
      "metadata": {
        "id": "pe4O_dyLn5LJ"
      },
      "source": [
        "#Implement here"
      ],
      "execution_count": null,
      "outputs": []
    },
    {
      "cell_type": "markdown",
      "metadata": {
        "id": "Y64YBzu7HQJx"
      },
      "source": [
        "---"
      ]
    },
    {
      "cell_type": "markdown",
      "metadata": {
        "id": "dZgVsDdXrt4K"
      },
      "source": [
        "Let the cleaning begin! \n",
        "\n",
        "**Step 2:** Find the problems!\n",
        "\n",
        "  Take a look at the data and do your best to find some of the problems.\n",
        "  You will need to revist this question as you continue to clean. \n",
        "\n",
        "  List the problems here:\n",
        "<ul>\n",
        "  <li> <textarea name=\"first\" rows=1 cols=50></textarea></li>\n",
        "  <li> <textarea name=\"second\" rows=1 cols=50></textarea></li>\n",
        "  <li> <textarea name=\"third\" rows=1 cols=50></textarea></li>\n",
        "</ul>"
      ]
    },
    {
      "cell_type": "markdown",
      "metadata": {
        "id": "UF4di3D3tkqt"
      },
      "source": [
        "Why is it important that we fix the problems you listed? \n",
        "\n",
        "<p><textarea id=\"dirty\" name=\"dirty\" rows=6 cols=100>Explain here.</textarea></p>"
      ]
    },
    {
      "cell_type": "markdown",
      "metadata": {
        "id": "HMB7QSqzHbug"
      },
      "source": [
        "---"
      ]
    },
    {
      "cell_type": "markdown",
      "metadata": {
        "id": "dyMExrcFt-Z4"
      },
      "source": [
        "**Problem 1:** Take a look at the columns if you haven't already.\n",
        "\n",
        "There are tons of columns and they look **HIDEOUS**.\n",
        "\n",
        "    Think about how you could clean the columns to make them consistent. \n",
        "    Try and determine what control/data structures that can help you. \n",
        "    List the steps for Approach 1 and Approach 2.\n",
        "\n",
        "Approach 1\n",
        "<p><textarea id=\"dirty\" name=\"dirty\" rows=6 cols=100>Place your steps here.</textarea></p>\n",
        "\n",
        "Approach 2\n",
        "<p><textarea id=\"dirty2\" name=\"dirty\" rows=6 cols=100>Place your steps here.</textarea>\n",
        "\n",
        "\n",
        "Explain which approach you think is best to implement.Why?\n",
        "<p><textarea id=\"dirty\" name=\"dirty\" rows=6 cols=100> </textarea></p>\n"
      ]
    },
    {
      "cell_type": "markdown",
      "metadata": {
        "id": "x6CdYxSSJmy4"
      },
      "source": [
        "----"
      ]
    },
    {
      "cell_type": "markdown",
      "metadata": {
        "id": "0seO3jCbvtRY"
      },
      "source": [
        "**Problem 2:** Null values!! \n",
        "\n",
        "In the world of data, we do NOT like NULL values. At all. \n",
        "\n",
        "NULL values complicate things. We want simple things. So we need to deal with our NULL values.\n",
        "\n"
      ]
    },
    {
      "cell_type": "markdown",
      "metadata": {
        "id": "OIw28LlUJtDO"
      },
      "source": [
        "How would you go about fixing the NULL values? (Remember you need to justify anything you remove from data)"
      ]
    },
    {
      "cell_type": "markdown",
      "metadata": {
        "id": "teSWH0WsJ5Zz"
      },
      "source": [
        "<p><textarea id=\"null_values\" name=\"null_values\" rows=6 cols=100>Place your steps here. </textarea></p>\n"
      ]
    },
    {
      "cell_type": "code",
      "metadata": {
        "id": "_Ui1x0rWHjcs"
      },
      "source": [
        "#Write out your steps here"
      ],
      "execution_count": null,
      "outputs": []
    },
    {
      "cell_type": "markdown",
      "metadata": {
        "id": "4oaYG_NTLB0T"
      },
      "source": [
        "-----"
      ]
    },
    {
      "cell_type": "markdown",
      "metadata": {
        "id": "0HpxiWPZHvDH"
      },
      "source": [
        "**Problem 3:** Column values!\n",
        "\n",
        "Survey data is a pain. There is no restriction of what can go into our dataset. So values are only misspelled. But some make abso-fruitly no sense. \n",
        "\n",
        "Take a look at the vaules of each column! \n",
        "\n",
        "    We only want to look at specific column(s) and what is present within it. \n",
        "    -> BE SURE TO ALSO EXAMINE THE ROWS IF YOU SUSPECT ENTRIES COULD BE FOR A DIFFERENT COLUMN \n",
        "\n",
        "What columns did you find that needs to be fixed? \n",
        "<ul>\n",
        "  <li> <textarea name=\"first\" rows=1 cols=50></textarea></li>\n",
        "  <li> <textarea name=\"second\" rows=1 cols=50></textarea></li>\n",
        "  <li> <textarea name=\"third\" rows=1 cols=50></textarea></li>\n",
        "  <li> <textarea name=\"fourth\" rows=1 cols=50></textarea></li>\n",
        "</ul>\n",
        "\n",
        "\n",
        "Just as before think about how you might fix these columns before you try implementing anything.\n",
        "\n",
        "Column 1\n",
        "<textarea name=\"approach2\" rows=5 cols=100>Place each column's steps here.</textarea>\n",
        "\n",
        "Column 2\n",
        "<textarea name=\"approach2\" rows=5 cols=100>Place each column's steps here.</textarea>\n",
        "\n",
        "Column 3\n",
        "<textarea name=\"approach2\" rows=5 cols=100>Place each column's steps here.</textarea>\n",
        "\n",
        "Column 4\n",
        "<textarea name=\"approach2\" rows=5 cols=100>Place each column's steps here.</textarea>\n",
        "\n"
      ]
    },
    {
      "cell_type": "code",
      "metadata": {
        "id": "EoTgr80UI8QG"
      },
      "source": [
        "#examine your dataset here"
      ],
      "execution_count": null,
      "outputs": []
    },
    {
      "cell_type": "code",
      "metadata": {
        "id": "_LEyCTHHJBPL"
      },
      "source": [
        "#look at your column values more in depth\n",
        "    # add as many of these as you need to make it coherent for other readers"
      ],
      "execution_count": null,
      "outputs": []
    },
    {
      "cell_type": "code",
      "metadata": {
        "id": "WU4kxwNCN1UA"
      },
      "source": [
        ""
      ],
      "execution_count": null,
      "outputs": []
    },
    {
      "cell_type": "code",
      "metadata": {
        "id": "nOETTldlN06z"
      },
      "source": [
        ""
      ],
      "execution_count": null,
      "outputs": []
    },
    {
      "cell_type": "markdown",
      "metadata": {
        "id": "19s8Jn5xN2ES"
      },
      "source": [
        "----"
      ]
    },
    {
      "cell_type": "markdown",
      "metadata": {
        "id": "ZPGyZsRFJOVT"
      },
      "source": [
        "**Step 3: Examine your data again, Is all of the data \"cleaned\"?**\n",
        "\n",
        "This step you may do many times. It is very common to miss something in your original pass through. We are all humans, so mistakes happen.\n",
        "\n",
        "Similar to what you were taught in grade school. The Scientific Method!\n",
        "\n",
        "    1.Find the Problem/Ask Question\n",
        "    2.Research and Gather Information\n",
        "    3.Create Assumption\n",
        "    4.Experiment\n",
        "    5.Observe\n",
        "    6.Conclusion\n",
        "    7.Repeat (if needed)\n",
        "\n",
        "\n",
        "Revisit your data. Print all unique values in the column. Below, check to see if their are any values you missed, and fix the errors. \n",
        "\n",
        "    Hint: One step you may have not seen could be seeing if there is at least one answer present for all of the candy columns. \n",
        "    If not, is it necessary to have those entries?\n",
        "\n"
      ]
    },
    {
      "cell_type": "code",
      "metadata": {
        "id": "13vpKWrkKM22"
      },
      "source": [
        "# Revisit Data"
      ],
      "execution_count": null,
      "outputs": []
    },
    {
      "cell_type": "code",
      "metadata": {
        "id": "UxKihexxKOU8"
      },
      "source": [
        "# Do anymore steps that you find necessary"
      ],
      "execution_count": null,
      "outputs": []
    },
    {
      "cell_type": "code",
      "metadata": {
        "id": "MxEjOeMxPqkk"
      },
      "source": [
        "#Continue to go through these steps until your dataset is fresh and cleaned!"
      ],
      "execution_count": null,
      "outputs": []
    },
    {
      "cell_type": "markdown",
      "metadata": {
        "id": "bGD1W2YjPNhJ"
      },
      "source": [
        "![picture](https://media.giphy.com/media/r1hcMJNIDvdnE2koDY/giphy.gif)\n",
        "\n",
        "\n",
        "                    YAS! You can raise the roof, your dataset is good as new! Go treat yourself with some ice cream. You deserve it!"
      ]
    }
  ]
}