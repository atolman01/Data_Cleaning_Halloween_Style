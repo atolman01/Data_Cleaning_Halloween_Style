{
  "nbformat": 4,
  "nbformat_minor": 0,
  "metadata": {
    "colab": {
      "name": "PySpark_Exercise_Data_Cleaning.ipynb",
      "provenance": [],
      "include_colab_link": true
    },
    "kernelspec": {
      "name": "python3",
      "display_name": "Python 3"
    }
  },
  "cells": [
    {
      "cell_type": "markdown",
      "metadata": {
        "id": "view-in-github",
        "colab_type": "text"
      },
      "source": [
        "<a href=\"https://colab.research.google.com/github/atolman01/Data_Cleaning_Halloween_Style/blob/main/PySpark_Exercise_Data_Cleaning.ipynb\" target=\"_parent\"><img src=\"https://colab.research.google.com/assets/colab-badge.svg\" alt=\"Open In Colab\"/></a>"
      ]
    },
    {
      "cell_type": "markdown",
      "metadata": {
        "id": "VrDt6VAu4Yyd"
      },
      "source": [
        "# **USING PYSPARK**\n",
        "##  **Data Cleaning**\n",
        "\n",
        "![picture](https://media.tenor.com/images/f4c8059e75d21aa301174d4374ec4680/tenor.gif)"
      ]
    },
    {
      "cell_type": "markdown",
      "metadata": {
        "id": "ydALavO8niSa"
      },
      "source": [
        "Download the spookiest dataset here: https://www.scq.ubc.ca/so-much-candy-data-seriously/\n",
        "\n",
        "We want to see what candy Trick or Treaters liked a few years ago, but we need your help with cleaning the data!"
      ]
    },
    {
      "cell_type": "markdown",
      "metadata": {
        "id": "aMM9mV4CoT-Z"
      },
      "source": [
        "Note: These steps should be done on your spark cluster account!"
      ]
    },
    {
      "cell_type": "markdown",
      "metadata": {
        "id": "MRqypTFZoCMh"
      },
      "source": [
        "**Step 1:** First read the Data in\n",
        "\n",
        "Remember there are optional parameters with .read_csv in pyspark such as:\n",
        "\n",
        "*sep*     --> Default value is `,`\n",
        "\n",
        "*header*  --> Default value is `None`, otherwise if the first line in your file is the column names set header=0\n",
        "\n",
        "*inferSchema*  --> default option is false, ensuring all columns are strings\n"
      ]
    },
    {
      "cell_type": "code",
      "metadata": {
        "id": "pe4O_dyLn5LJ"
      },
      "source": [
        "# Comment how you are reading your code in here:\n",
        "  #  "
      ],
      "execution_count": null,
      "outputs": []
    },
    {
      "cell_type": "markdown",
      "metadata": {
        "id": "dZgVsDdXrt4K"
      },
      "source": [
        "Now that the data is read in. Let the cleaning begin! \n",
        "\n",
        "**Step 2:** Find the problems!\n",
        "\n",
        "  Take a look at the data and do your best to find some of the problems.\n",
        "  You will need to revist this question as you continue to clean. \n",
        "\n",
        "  List the problems here:\n",
        "<ul>\n",
        "  <li> <textarea name=\"first\" rows=1 cols=50></textarea></li>\n",
        "  <li> <textarea name=\"second\" rows=1 cols=50></textarea></li>\n",
        "  <li> <textarea name=\"third\" rows=1 cols=50></textarea></li>\n",
        "</ul>"
      ]
    },
    {
      "cell_type": "markdown",
      "metadata": {
        "id": "UF4di3D3tkqt"
      },
      "source": [
        "Why is it important that we fix the problems you listed? \n",
        "\n",
        "<p><textarea id=\"dirty\" name=\"dirty\" rows=6 cols=100>Explain here.</textarea></p>"
      ]
    },
    {
      "cell_type": "markdown",
      "metadata": {
        "id": "dyMExrcFt-Z4"
      },
      "source": [
        "**Problem 1:** Take a look at the columns if you haven't already.\n",
        "\n",
        "As you can tell, there are many of them and they aren't pretty looking.\n",
        "\n",
        "Let's think about the steps we will take to clean these columns. List your thoughts below:\n",
        "<p><textarea id=\"dirty\" name=\"dirty\" rows=6 cols=100>Explain here.</textarea></p>\n",
        "\n",
        "\n",
        "Explain which approach you will implement and why:\n",
        "<p><textarea id=\"dirty\" name=\"dirty\" rows=6 cols=100> </textarea></p>\n"
      ]
    }
  ]
}