{
  "nbformat": 4,
  "nbformat_minor": 0,
  "metadata": {
    "colab": {
      "name": "PySpark_Exercise_Data_Cleaning.ipynb",
      "provenance": [],
      "include_colab_link": true
    },
    "kernelspec": {
      "name": "python3",
      "display_name": "Python 3"
    }
  },
  "cells": [
    {
      "cell_type": "markdown",
      "metadata": {
        "id": "view-in-github",
        "colab_type": "text"
      },
      "source": [
        "<a href=\"https://colab.research.google.com/github/atolman01/Data_Cleaning_Halloween_Style/blob/main/PySpark_Exercise_Data_Cleaning.ipynb\" target=\"_parent\"><img src=\"https://colab.research.google.com/assets/colab-badge.svg\" alt=\"Open In Colab\"/></a>"
      ]
    },
    {
      "cell_type": "markdown",
      "metadata": {
        "id": "VrDt6VAu4Yyd"
      },
      "source": [
        "# ***USING PYSPARK***\n",
        "\n",
        "![picture](https://media.tenor.com/images/f4c8059e75d21aa301174d4374ec4680/tenor.gif)"
      ]
    }
  ]
}